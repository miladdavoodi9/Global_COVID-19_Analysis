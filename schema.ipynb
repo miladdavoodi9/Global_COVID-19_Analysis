{
 "cells": [
  {
   "cell_type": "code",
   "execution_count": 9,
   "metadata": {},
   "outputs": [],
   "source": [
    "import sqlite3\n",
    "from sqlite3 import Error"
   ]
  },
  {
   "cell_type": "code",
   "execution_count": 10,
   "metadata": {},
   "outputs": [],
   "source": [
    "def create_connection(db_file):\n",
    "    \"\"\" create a database connection to the SQLite database\n",
    "        specified by db_file\n",
    "    :param db_file: database file\n",
    "    :return: Connection object or None\n",
    "    \"\"\"\n",
    "    conn = None\n",
    "    try:\n",
    "        conn = sqlite3.connect(db_file)\n",
    "        return conn\n",
    "    except Error as e:\n",
    "        print(e)\n",
    " \n",
    "    return conn"
   ]
  },
  {
   "cell_type": "code",
   "execution_count": 11,
   "metadata": {},
   "outputs": [],
   "source": [
    "def create_table(conn, create_table_sql):\n",
    "    \"\"\" create a table from the create_table_sql statement\n",
    "    :param conn: Connection object\n",
    "    :param create_table_sql: a CREATE TABLE statement\n",
    "    :return:\n",
    "    \"\"\"\n",
    "    try:\n",
    "        c = conn.cursor()\n",
    "        c.execute(create_table_sql)\n",
    "    except Error as e:\n",
    "        print(e)"
   ]
  },
  {
   "cell_type": "code",
   "execution_count": 12,
   "metadata": {},
   "outputs": [],
   "source": [
    "database = \"COVID19_vs_H1N1.sqlite\""
   ]
  },
  {
   "cell_type": "code",
   "execution_count": 13,
   "metadata": {},
   "outputs": [],
   "source": [
    "country = \"\"\"CREATE TABLE \"country\" (\n",
    "\t\"Country_ID\"\tINTEGER,\n",
    "\t\"Country\"\tTEXT,\n",
    "\tPRIMARY KEY(\"Country_ID\")\n",
    ");\"\"\"\n",
    " \n",
    "covid = \"\"\"CREATE TABLE \"covid\" (\n",
    "\t\"index\"\tINTEGER,\n",
    "\t\"Country_ID\"\tINTEGER,\n",
    "\t\"Country\"\tTEXT,\n",
    "\t\"Province\"\tTEXT,\n",
    "\t\"Date\"\tDATETIME, \n",
    "\t\"Confirmed\"\tFLOAT,\n",
    "\t\"Deaths\"\tFLOAT,\n",
    "\t\"Recovered\"\tFLOAT,\n",
    "\tPRIMARY KEY(\"index\")\n",
    ");\"\"\"\n",
    "\n",
    "global_covid_data = \"\"\"CREATE TABLE \"global_covid_data\" (\n",
    "\t\"index\"\tINTEGER,\n",
    "\t\"Country_ID\"\tINTEGER,\n",
    "\t\"Country\"\tTEXT,\n",
    "\t\"Confirmed\"\tFLOAT,\n",
    "\t\"Deaths\"\tFLOAT,\n",
    "\t\"Recovered\"\tFLOAT,\n",
    "\tPRIMARY KEY(\"index\")\n",
    ");\"\"\"\n",
    "\n",
    "h1n1 = \"\"\"CREATE TABLE \"h1n1\" (\n",
    "\t\"index\"\tINTEGER,\n",
    "\t\"Country_ID\"\tINTEGER,\n",
    "\t\"Country\"\tTEXT,\n",
    "\t\"Date\"\tDATETIME,\n",
    "\t\"Confirmed\"\tINTEGER,\n",
    "\t\"Deaths\"\tFLOAT,\n",
    "\tPRIMARY KEY(\"index\")\n",
    ");\"\"\"\n",
    "\n",
    "global_h1n1_data = \"\"\"CREATE TABLE \"global_h1n1_data\" (\n",
    "\t\"index\"\tINTEGER,\n",
    "\t\"Country\"\tTEXT,\n",
    "\t\"Confirmed\"\tFLOAT,\n",
    "\t\"Deaths\"\tFLOAT,\n",
    "\tPRIMARY KEY(\"index\")\n",
    ");\"\"\""
   ]
  },
  {
   "cell_type": "code",
   "execution_count": 14,
   "metadata": {},
   "outputs": [],
   "source": [
    "# create a database connection\n",
    "conn = create_connection(database)"
   ]
  },
  {
   "cell_type": "code",
   "execution_count": 15,
   "metadata": {},
   "outputs": [],
   "source": [
    " # create tables\n",
    "if conn is not None:\n",
    "        # create projects table\n",
    "    create_table(conn, country)\n",
    " \n",
    "        # create tasks table\n",
    "    create_table(conn, covid)\n",
    "    \n",
    "    create_table(conn, global_covid_data)\n",
    "    \n",
    "    create_table(conn, h1n1)\n",
    "    \n",
    "    create_table(conn, global_h1n1_data)\n",
    "    \n",
    "else:\n",
    "    print(\"Error! cannot create the database connection.\")"
   ]
  },
  {
   "cell_type": "code",
   "execution_count": null,
   "metadata": {},
   "outputs": [],
   "source": []
  },
  {
   "cell_type": "code",
   "execution_count": null,
   "metadata": {},
   "outputs": [],
   "source": []
  }
 ],
 "metadata": {
  "kernelspec": {
   "display_name": "Python 3",
   "language": "python",
   "name": "python3"
  },
  "language_info": {
   "codemirror_mode": {
    "name": "ipython",
    "version": 3
   },
   "file_extension": ".py",
   "mimetype": "text/x-python",
   "name": "python",
   "nbconvert_exporter": "python",
   "pygments_lexer": "ipython3",
   "version": "3.7.4"
  }
 },
 "nbformat": 4,
 "nbformat_minor": 4
}
